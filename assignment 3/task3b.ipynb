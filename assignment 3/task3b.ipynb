{
 "cells": [
  {
   "cell_type": "code",
   "execution_count": null,
   "metadata": {},
   "outputs": [],
   "source": [
    "import utils\n",
    "import skimage\n",
    "import skimage.morphology\n",
    "import numpy as np\n",
    "from task3a import remove_noise"
   ]
  },
  {
   "cell_type": "code",
   "execution_count": null,
   "metadata": {},
   "outputs": [],
   "source": [
    "def distance_transform(im: np.ndarray) -> np.ndarray:\n",
    "    \"\"\"\n",
    "        A function that computes the distance to the closest boundary pixel.\n",
    "\n",
    "        args:\n",
    "            im: np.ndarray of shape (H, W) with boolean values (dtype=np.bool)\n",
    "        return:\n",
    "            (np.ndarray) of shape (H, W). dtype=np.int32\n",
    "    \"\"\"\n",
    "    ### START YOUR CODE HERE ### (You can change anything inside this block)\n",
    "    # You can also define other helper functions\n",
    "    assert im.dtype == np.bool\n",
    "    structuring_element = np.array([\n",
    "        [1, 1, 1],\n",
    "        [1, 1, 1],\n",
    "        [1, 1, 1]\n",
    "    ], dtype=bool)\n",
    "    result = im.astype(np.int32)\n",
    "    return result\n",
    "    ### END YOUR CODE HERE ###"
   ]
  },
  {
   "cell_type": "code",
   "execution_count": null,
   "metadata": {},
   "outputs": [],
   "source": [
    "if __name__ == \"__main__\":\n",
    "    im = utils.read_image(\"noisy.png\")\n",
    "    binary_image = (im != 0)\n",
    "    noise_free_image = remove_noise(binary_image)\n",
    "    distance = distance_transform(noise_free_image)\n",
    "\n",
    "    assert im.shape == distance.shape, \"Expected image shape ({}) to be same as resulting image shape ({})\".format(\n",
    "            im.shape, distance.shape)\n",
    "    assert distance.dtype == np.int32, \"Expected resulting image dtype to be np.int32. Was: {}\".format(\n",
    "            distance.dtype)\n",
    "\n",
    "    distance = utils.to_uint8(distance)\n",
    "    utils.save_im(\"noisy-distance.png\", distance)"
   ]
  }
 ],
 "metadata": {},
 "nbformat": 4,
 "nbformat_minor": 4
}
